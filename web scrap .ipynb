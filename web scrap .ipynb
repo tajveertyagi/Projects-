{
 "cells": [
  {
   "cell_type": "markdown",
   "metadata": {},
   "source": [
    "# Web Scrapping in python of IMDB Movies "
   ]
  },
  {
   "cell_type": "code",
   "execution_count": null,
   "metadata": {},
   "outputs": [],
   "source": []
  },
  {
   "cell_type": "code",
   "execution_count": null,
   "metadata": {},
   "outputs": [],
   "source": [
    "from urllib.request import urlopen\n",
    "from bs4 import BeautifulSoup"
   ]
  },
  {
   "cell_type": "code",
   "execution_count": 2,
   "metadata": {},
   "outputs": [],
   "source": [
    "response = urlopen(\"http://www.imdb.com/list/ls055592025/\")"
   ]
  },
  {
   "cell_type": "code",
   "execution_count": 3,
   "metadata": {},
   "outputs": [],
   "source": [
    "soup = BeautifulSoup(response.read(), \"html.parser\")"
   ]
  },
  {
   "cell_type": "code",
   "execution_count": 4,
   "metadata": {},
   "outputs": [
    {
     "name": "stdout",
     "output_type": "stream",
     "text": [
      "The Godfather\n",
      "The Shawshank Redemption\n",
      "Schindler's List\n",
      "Raging Bull\n",
      "Casablanca\n",
      "Citizen Kane\n",
      "Gone with the Wind\n",
      "The Wizard of Oz\n",
      "One Flew Over the Cuckoo's Nest\n",
      "Lawrence of Arabia\n",
      "Vertigo\n",
      "Psycho\n",
      "The Godfather: Part II\n",
      "On the Waterfront\n",
      "Sunset Blvd.\n",
      "Forrest Gump\n",
      "The Sound of Music\n",
      "12 Angry Men\n",
      "West Side Story\n",
      "Star Wars\n",
      "2001: A Space Odyssey\n",
      "E.T. the Extra-Terrestrial\n",
      "The Silence of the Lambs\n",
      "Chinatown\n",
      "The Bridge on the River Kwai\n",
      "Singin' in the Rain\n",
      "It's a Wonderful Life\n",
      "Dr. Strangelove or: How I Learned to Stop Worrying and Love the Bomb\n",
      "Some Like It Hot\n",
      "Ben-Hur\n",
      "Apocalypse Now\n",
      "Amadeus\n",
      "The Lord of the Rings: The Return of the King\n",
      "Gladiator\n",
      "Titanic\n",
      "From Here to Eternity\n",
      "Saving Private Ryan\n",
      "Unforgiven\n",
      "Raiders of the Lost Ark\n",
      "Rocky\n",
      "A Streetcar Named Desire\n",
      "The Philadelphia Story\n",
      "To Kill a Mockingbird\n",
      "An American in Paris\n",
      "The Best Years of Our Lives\n",
      "My Fair Lady\n",
      "A Clockwork Orange\n",
      "Doctor Zhivago\n",
      "The Searchers\n",
      "Jaws\n",
      "Patton\n",
      "Butch Cassidy and the Sundance Kid\n",
      "The Treasure of the Sierra Madre\n",
      "Il buono, il brutto, il cattivo\n",
      "The Apartment\n",
      "Platoon\n",
      "High Noon\n",
      "Braveheart\n",
      "Dances with Wolves\n",
      "Jurassic Park\n",
      "The Exorcist\n",
      "The Pianist\n",
      "Goodfellas\n",
      "The Deer Hunter\n",
      "All Quiet on the Western Front\n",
      "Bonnie and Clyde\n",
      "The French Connection\n",
      "City Lights\n",
      "It Happened One Night\n",
      "A Place in the Sun\n",
      "Midnight Cowboy\n",
      "Mr. Smith Goes to Washington\n",
      "Rain Man\n",
      "Annie Hall\n",
      "Fargo\n",
      "Giant\n",
      "Shane\n",
      "The Grapes of Wrath\n",
      "The Green Mile\n",
      "Close Encounters of the Third Kind\n",
      "Nashville\n",
      "Network\n",
      "The Graduate\n",
      "American Graffiti\n",
      "Pulp Fiction\n",
      "Terms of Endearment\n",
      "Good Will Hunting\n",
      "The African Queen\n",
      "Stagecoach\n",
      "Mutiny on the Bounty\n",
      "The Great Dictator\n",
      "Double Indemnity\n",
      "The Maltese Falcon\n",
      "Wuthering Heights\n",
      "Taxi Driver\n",
      "Rear Window\n",
      "The Third Man\n",
      "Rebel Without a Cause\n",
      "North by Northwest\n",
      "Yankee Doodle Dandy\n"
     ]
    }
   ],
   "source": [
    "for div in soup.findAll('div', {'class': 'lister-item-content'}):\n",
    "    for b in div.findAll('h3'):\n",
    "        for a in b.findAll('a'):\n",
    "            print(a.text)"
   ]
  },
  {
   "cell_type": "code",
   "execution_count": 5,
   "metadata": {},
   "outputs": [],
   "source": [
    "links=[]\n",
    "titles=[]\n",
    "\n",
    "for div in soup.findAll('div', {'class': 'lister-item-content'}):\n",
    "    for b in div.findAll('h3'):\n",
    "        for a in b.findAll('a'):\n",
    "            titles.append(a.text)\n",
    "            links.append('http://www.imdb.com'+a['href'])\n",
    "\n",
    "\n",
    "            "
   ]
  },
  {
   "cell_type": "code",
   "execution_count": 6,
   "metadata": {},
   "outputs": [
    {
     "data": {
      "text/plain": [
       "'http://www.imdb.com/title/tt0068646/'"
      ]
     },
     "execution_count": 6,
     "metadata": {},
     "output_type": "execute_result"
    }
   ],
   "source": [
    "links[0]"
   ]
  },
  {
   "cell_type": "code",
   "execution_count": 7,
   "metadata": {},
   "outputs": [],
   "source": [
    "synopses=[]\n",
    "\n",
    "for i in links:\n",
    "    response = urlopen(str(i)+\"synopsis?ref_=tt_stry_pl\")\n",
    "    soup = BeautifulSoup(response.read(), \"html.parser\")\n",
    "    \n",
    "    for div in soup.findAll('ul',{'id':'plot-synopsis-content'}):\n",
    "        synopses.append(div.text)\n"
   ]
  },
  {
   "cell_type": "code",
   "execution_count": 8,
   "metadata": {},
   "outputs": [],
   "source": [
    "import json\n",
    "\n",
    "with open('titles.txt', 'w') as filehandle:\n",
    "    json.dump(titles, filehandle)\n",
    "\n",
    "with open('links.txt', 'w') as filehandle:\n",
    "    json.dump(links, filehandle)\n",
    "\n",
    "with open('synopses.txt', 'w') as filehandle:\n",
    "    json.dump(synopses, filehandle)"
   ]
  },
  {
   "cell_type": "code",
   "execution_count": null,
   "metadata": {},
   "outputs": [],
   "source": []
  }
 ],
 "metadata": {
  "kernelspec": {
   "display_name": "Python 3",
   "language": "python",
   "name": "python3"
  },
  "language_info": {
   "codemirror_mode": {
    "name": "ipython",
    "version": 3
   },
   "file_extension": ".py",
   "mimetype": "text/x-python",
   "name": "python",
   "nbconvert_exporter": "python",
   "pygments_lexer": "ipython3",
   "version": "3.8.3"
  }
 },
 "nbformat": 4,
 "nbformat_minor": 4
}
